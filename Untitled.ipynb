{
 "cells": [
  {
   "cell_type": "code",
   "execution_count": null,
   "id": "eb243f3f",
   "metadata": {},
   "outputs": [],
   "source": [
    "pip install pymysql"
   ]
  },
  {
   "cell_type": "markdown",
   "id": "6af86abd",
   "metadata": {},
   "source": [
    "import pymysql"
   ]
  },
  {
   "cell_type": "markdown",
   "id": "15e887c6",
   "metadata": {},
   "source": [
    "connection =mysql.connect(host='localhost',port=3306,user='*****',password='***',db='Investar',autocommit=True)"
   ]
  },
  {
   "cell_type": "markdown",
   "id": "ca6ef1b3",
   "metadata": {},
   "source": [
    "cursor = connection.cursor()"
   ]
  },
  {
   "cell_type": "markdown",
   "id": "e9432701",
   "metadata": {},
   "source": [
    "cursor.execute(\"select version();\")"
   ]
  },
  {
   "cell_type": "markdown",
   "id": "d3358dd8",
   "metadata": {},
   "source": [
    "result = cursor.fetchone()\n"
   ]
  },
  {
   "cell_type": "markdown",
   "id": "b6e87509",
   "metadata": {},
   "source": [
    "result"
   ]
  },
  {
   "cell_type": "markdown",
   "id": "3f922db4",
   "metadata": {},
   "source": [
    "print(\"Maria version : {}\".format(result))"
   ]
  },
  {
   "cell_type": "markdown",
   "id": "8a5be1fd",
   "metadata": {},
   "source": [
    "print(\"Maria version : \",result)"
   ]
  },
  {
   "cell_type": "code",
   "execution_count": 5,
   "id": "8db55130",
   "metadata": {},
   "outputs": [],
   "source": [
    "import tensorflow as tf"
   ]
  },
  {
   "cell_type": "code",
   "execution_count": 6,
   "id": "4298562e",
   "metadata": {},
   "outputs": [],
   "source": [
    "import numpy"
   ]
  },
  {
   "cell_type": "code",
   "execution_count": null,
   "id": "a70d6d12",
   "metadata": {},
   "outputs": [],
   "source": []
  }
 ],
 "metadata": {
  "kernelspec": {
   "display_name": "Python 3.8",
   "language": "python",
   "name": "myenv"
  },
  "language_info": {
   "codemirror_mode": {
    "name": "ipython",
    "version": 3
   },
   "file_extension": ".py",
   "mimetype": "text/x-python",
   "name": "python",
   "nbconvert_exporter": "python",
   "pygments_lexer": "ipython3",
   "version": "3.10.6"
  }
 },
 "nbformat": 4,
 "nbformat_minor": 5
}
