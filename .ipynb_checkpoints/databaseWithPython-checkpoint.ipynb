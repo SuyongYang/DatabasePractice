{
 "cells": [
  {
   "cell_type": "code",
   "execution_count": null,
   "id": "2e10d333",
   "metadata": {},
   "outputs": [],
   "source": [
    "pip install pymysql"
   ]
  },
  {
   "cell_type": "code",
   "execution_count": 2,
   "id": "def6112a",
   "metadata": {},
   "outputs": [],
   "source": [
    "import pymysql"
   ]
  },
  {
   "cell_type": "code",
   "execution_count": 3,
   "id": "297d0397",
   "metadata": {},
   "outputs": [],
   "source": [
    "connection =pymysql.connect(host='localhost',port=3306,user='maurice',password='gal1gi1',db='Investar',autocommit=True)"
   ]
  },
  {
   "cell_type": "code",
   "execution_count": 4,
   "id": "2013eed2",
   "metadata": {},
   "outputs": [],
   "source": [
    "cursor = connection.cursor()"
   ]
  },
  {
   "cell_type": "code",
   "execution_count": 5,
   "id": "2ec95d29",
   "metadata": {},
   "outputs": [
    {
     "data": {
      "text/plain": [
       "1"
      ]
     },
     "execution_count": 5,
     "metadata": {},
     "output_type": "execute_result"
    }
   ],
   "source": [
    "cursor.execute(\"select version();\")"
   ]
  },
  {
   "cell_type": "code",
   "execution_count": 6,
   "id": "d322bf9f",
   "metadata": {},
   "outputs": [],
   "source": [
    "result = cursor.fetchone()\n"
   ]
  },
  {
   "cell_type": "code",
   "execution_count": 7,
   "id": "ba2c0471",
   "metadata": {},
   "outputs": [
    {
     "data": {
      "text/plain": [
       "('10.6.12-MariaDB-0ubuntu0.22.04.1',)"
      ]
     },
     "execution_count": 7,
     "metadata": {},
     "output_type": "execute_result"
    }
   ],
   "source": [
    "result"
   ]
  },
  {
   "cell_type": "code",
   "execution_count": 8,
   "id": "24a70f95",
   "metadata": {},
   "outputs": [
    {
     "name": "stdout",
     "output_type": "stream",
     "text": [
      "Maria version : ('10.6.12-MariaDB-0ubuntu0.22.04.1',)\n"
     ]
    }
   ],
   "source": [
    "print(\"Maria version : {}\".format(result))"
   ]
  },
  {
   "cell_type": "code",
   "execution_count": 9,
   "id": "594558dd",
   "metadata": {},
   "outputs": [
    {
     "name": "stdout",
     "output_type": "stream",
     "text": [
      "Maria version :  ('10.6.12-MariaDB-0ubuntu0.22.04.1',)\n"
     ]
    }
   ],
   "source": [
    "print(\"Maria version : \",result)"
   ]
  },
  {
   "cell_type": "code",
   "execution_count": null,
   "id": "ddb64060",
   "metadata": {},
   "outputs": [],
   "source": []
  },
  {
   "cell_type": "code",
   "execution_count": null,
   "id": "2689c287",
   "metadata": {},
   "outputs": [],
   "source": []
  }
 ],
 "metadata": {
  "kernelspec": {
   "display_name": "Python 3.8",
   "language": "python",
   "name": "myenv"
  },
  "language_info": {
   "codemirror_mode": {
    "name": "ipython",
    "version": 3
   },
   "file_extension": ".py",
   "mimetype": "text/x-python",
   "name": "python",
   "nbconvert_exporter": "python",
   "pygments_lexer": "ipython3",
   "version": "3.10.6"
  }
 },
 "nbformat": 4,
 "nbformat_minor": 5
}
