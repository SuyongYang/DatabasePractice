{
 "cells": [
  {
   "cell_type": "markdown",
   "id": "79998d9b",
   "metadata": {},
   "source": [
    "pip install pymysql"
   ]
  },
  {
   "cell_type": "markdown",
   "id": "cc62e921",
   "metadata": {},
   "source": [
    "import pymysql"
   ]
  },
  {
   "cell_type": "markdown",
   "id": "2e6119d9",
   "metadata": {},
   "source": [
    "connection =mysql.connect(host='localhost',port=3306,user='maurice',password='***',db='Investar',autocommit=True)"
   ]
  },
  {
   "cell_type": "markdown",
   "id": "022613fa",
   "metadata": {},
   "source": [
    "cursor = connection.cursor()"
   ]
  },
  {
   "cell_type": "markdown",
   "id": "e656e262",
   "metadata": {},
   "source": [
    "cursor.execute(\"select version();\")"
   ]
  },
  {
   "cell_type": "markdown",
   "id": "0adc4085",
   "metadata": {},
   "source": [
    "result = cursor.fetchone()\n"
   ]
  },
  {
   "cell_type": "markdown",
   "id": "5181f708",
   "metadata": {},
   "source": [
    "result"
   ]
  },
  {
   "cell_type": "markdown",
   "id": "537d2a00",
   "metadata": {},
   "source": [
    "print(\"Maria version : {}\".format(result))"
   ]
  },
  {
   "cell_type": "markdown",
   "id": "9826d10b",
   "metadata": {},
   "source": [
    "print(\"Maria version : \",result)"
   ]
  },
  {
   "cell_type": "markdown",
   "id": "5a4f1652",
   "metadata": {},
   "source": []
  }
 ],
 "metadata": {
  "kernelspec": {
   "display_name": "Python 3.8",
   "language": "python",
   "name": "myenv"
  },
  "language_info": {
   "codemirror_mode": {
    "name": "ipython",
    "version": 3
   },
   "file_extension": ".py",
   "mimetype": "text/x-python",
   "name": "python",
   "nbconvert_exporter": "python",
   "pygments_lexer": "ipython3",
   "version": "3.10.6"
  }
 },
 "nbformat": 4,
 "nbformat_minor": 5
}
