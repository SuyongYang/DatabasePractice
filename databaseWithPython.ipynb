{
 "cells": [
  {
   "cell_type": "code",
   "execution_count": null,
   "id": "2e10d333",
   "metadata": {},
   "outputs": [],
   "source": [
    "pip install pymysql"
   ]
  },
  {
   "cell_type": "code",
   "execution_count": 2,
   "id": "def6112a",
   "metadata": {},
   "outputs": [],
   "source": [
    "import pymysql"
   ]
  },
  {
   "cell_type": "code",
   "execution_count": 4,
   "id": "297d0397",
   "metadata": {},
   "outputs": [],
   "source": [
    "connection =pymysql.connect(host='localhost',port=3306,user='maurice',password='gal1gi1',db='INVESTAR',autocommit=True)"
   ]
  },
  {
   "cell_type": "code",
   "execution_count": 4,
   "id": "2013eed2",
   "metadata": {},
   "outputs": [],
   "source": [
    "cursor = connection.cursor()"
   ]
  },
  {
   "cell_type": "code",
   "execution_count": 5,
   "id": "2ec95d29",
   "metadata": {},
   "outputs": [
    {
     "data": {
      "text/plain": [
       "1"
      ]
     },
     "execution_count": 5,
     "metadata": {},
     "output_type": "execute_result"
    }
   ],
   "source": [
    "cursor.execute(\"select version();\")"
   ]
  },
  {
   "cell_type": "code",
   "execution_count": 6,
   "id": "d322bf9f",
   "metadata": {},
   "outputs": [],
   "source": [
    "result = cursor.fetchone()\n"
   ]
  },
  {
   "cell_type": "code",
   "execution_count": 7,
   "id": "ba2c0471",
   "metadata": {},
   "outputs": [
    {
     "data": {
      "text/plain": [
       "('10.6.12-MariaDB-0ubuntu0.22.04.1',)"
      ]
     },
     "execution_count": 7,
     "metadata": {},
     "output_type": "execute_result"
    }
   ],
   "source": [
    "result"
   ]
  },
  {
   "cell_type": "code",
   "execution_count": 8,
   "id": "24a70f95",
   "metadata": {},
   "outputs": [
    {
     "name": "stdout",
     "output_type": "stream",
     "text": [
      "Maria version : ('10.6.12-MariaDB-0ubuntu0.22.04.1',)\n"
     ]
    }
   ],
   "source": [
    "print(\"Maria version : {}\".format(result))"
   ]
  },
  {
   "cell_type": "code",
   "execution_count": 9,
   "id": "594558dd",
   "metadata": {},
   "outputs": [
    {
     "name": "stdout",
     "output_type": "stream",
     "text": [
      "Maria version :  ('10.6.12-MariaDB-0ubuntu0.22.04.1',)\n"
     ]
    }
   ],
   "source": [
    "print(\"Maria version : \",result)"
   ]
  },
  {
   "cell_type": "code",
   "execution_count": 5,
   "id": "ddb64060",
   "metadata": {},
   "outputs": [
    {
     "ename": "ModuleNotFoundError",
     "evalue": "No module named 'Investar'",
     "output_type": "error",
     "traceback": [
      "\u001b[0;31m---------------------------------------------------------------------------\u001b[0m",
      "\u001b[0;31mModuleNotFoundError\u001b[0m                       Traceback (most recent call last)",
      "Cell \u001b[0;32mIn[5], line 1\u001b[0m\n\u001b[0;32m----> 1\u001b[0m \u001b[38;5;28;01mfrom\u001b[39;00m \u001b[38;5;21;01mInvestar\u001b[39;00m \u001b[38;5;28;01mimport\u001b[39;00m Analyzer\n",
      "\u001b[0;31mModuleNotFoundError\u001b[0m: No module named 'Investar'"
     ]
    }
   ],
   "source": [
    "from I import Analyzer"
   ]
  },
  {
   "cell_type": "code",
   "execution_count": 9,
   "id": "2689c287",
   "metadata": {},
   "outputs": [
    {
     "ename": "SyntaxError",
     "evalue": "unexpected character after line continuation character (3000954881.py, line 2)",
     "output_type": "error",
     "traceback": [
      "\u001b[0;36m  Cell \u001b[0;32mIn[9], line 2\u001b[0;36m\u001b[0m\n\u001b[0;31m    sys.path.append(...\\'파이썬 증권 데이터 분석'\\'05_Stock_Price_API')\u001b[0m\n\u001b[0m                        ^\u001b[0m\n\u001b[0;31mSyntaxError\u001b[0m\u001b[0;31m:\u001b[0m unexpected character after line continuation character\n"
     ]
    }
   ],
   "source": []
  },
  {
   "cell_type": "code",
   "execution_count": null,
   "id": "0dd2c0f8",
   "metadata": {},
   "outputs": [],
   "source": []
  }
 ],
 "metadata": {
  "kernelspec": {
   "display_name": "Python 3.8",
   "language": "python",
   "name": "myenv"
  },
  "language_info": {
   "codemirror_mode": {
    "name": "ipython",
    "version": 3
   },
   "file_extension": ".py",
   "mimetype": "text/x-python",
   "name": "python",
   "nbconvert_exporter": "python",
   "pygments_lexer": "ipython3",
   "version": "3.10.6"
  }
 },
 "nbformat": 4,
 "nbformat_minor": 5
}
